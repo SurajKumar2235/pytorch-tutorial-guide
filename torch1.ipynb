{
 "cells": [
  {
   "cell_type": "code",
   "execution_count": 3,
   "metadata": {},
   "outputs": [
    {
     "name": "stdout",
     "output_type": "stream",
     "text": [
      "tensor([[-0.1304, -0.1987, -0.6146],\n",
      "        [-0.8669, -0.8477, -0.1630]])\n",
      "tensor([[-0.1304, -0.1987, -0.6146],\n",
      "        [-0.8669, -0.8477, -0.1630]])\n",
      "tensor([[-0.1304, -0.1987, -0.6146],\n",
      "        [-0.8669, -0.8477, -0.1630]])\n",
      "tensor([[0.0024, 0.2600, 1.5050],\n",
      "        [1.6442, 0.7135, 0.2807]])\n",
      "tensor([[0.0024, 0.2600, 1.5050],\n",
      "        [1.6442, 0.7135, 0.2807]])\n",
      "tensor([[0.0024, 0.2600, 1.5050],\n",
      "        [1.6442, 0.7135, 0.2807]])\n",
      "tensor([[0.0161, 0.4201, 0.9574],\n",
      "        [0.9201, 0.5212, 0.4546]])\n"
     ]
    },
    {
     "data": {
      "text/plain": [
       "tensor([[0.9053, 0.4696, 0.0991, 0.9385, 0.9687, 0.2465, 0.8868, 0.5074, 0.1410,\n",
       "         0.0609, 0.4089, 0.9892, 0.2514, 0.6203, 0.6474, 0.5095]])"
      ]
     },
     "execution_count": 3,
     "metadata": {},
     "output_type": "execute_result"
    }
   ],
   "source": [
    "import h\n",
    "x=torch.rand(4)\n",
    "x\n",
    "torch.cuda.is_available()\n",
    "### BASIC torch\n",
    "\n",
    "randm2dvector=torch.empty(2,3)\n",
    "\n",
    "ones2dvector=torch.ones(2,3)\n",
    "\n",
    "zeros2dvector=torch.zeros(3,4)\n",
    "\n",
    "randm2dvector,ones2dvector,zeros2dvector\n",
    "\n",
    "ones2dvector=torch.ones(2,3,dtype=torch.double)\n",
    "ones2dvector.dtype\n",
    "x=torch.tensor([23,23,2,1,3])\n",
    "x\n",
    "y=torch.rand(2,3)\n",
    "x=torch.rand(2,3)\n",
    "x\n",
    "\n",
    "y\n",
    "x+y\n",
    "torch.add(x,y)\n",
    "y.add_(x)\n",
    "y.add(x)\n",
    "print(x-y)\n",
    "print(torch.sub(x,y))\n",
    "print(x.sub(y))\n",
    "x\n",
    "# element wise multiplication\n",
    "\n",
    "\n",
    "\n",
    "print(x*y)\n",
    "print(torch.mul(x,y))\n",
    "print(x.mul(y))\n",
    "print(x)\n",
    "x[1,1].item()\n",
    "x=torch.rand(4,4)\n",
    "x.view(-1,16)# reshape\n"
   ]
  },
  {
   "cell_type": "code",
   "execution_count": 16,
   "metadata": {},
   "outputs": [
    {
     "name": "stdout",
     "output_type": "stream",
     "text": [
      "tensor([1., 1., 1., 1., 1.])\n",
      "<class 'numpy.ndarray'>\n"
     ]
    }
   ],
   "source": [
    "import numpy as np\n",
    "import torch\n",
    "a=torch.ones(5)\n",
    "print(a)\n",
    "b=a.numpy()\n",
    "print(type(b))\n",
    "a.add_(4)\n",
    "b\n",
    "import numpy as np\n",
    "import torch\n",
    "a=np .ones(5)\n",
    "print(a)\n",
    "b=torch.from_numpy(a)\n",
    "print(type(b))\n",
    "\n",
    "\n",
    "\n",
    "\n"
   ]
  },
  {
   "cell_type": "code",
   "execution_count": 35,
   "metadata": {},
   "outputs": [
    {
     "name": "stdout",
     "output_type": "stream",
     "text": [
      "tensor([ 0.0469, -0.6666,  0.3697], requires_grad=True)\n"
     ]
    }
   ],
   "source": [
    "import torch\n",
    "x=torch.randn(3,requires_grad=True)\n",
    "print(x)"
   ]
  },
  {
   "cell_type": "code",
   "execution_count": 36,
   "metadata": {},
   "outputs": [
    {
     "name": "stdout",
     "output_type": "stream",
     "text": [
      "tensor([ 8.3799,  3.5558, 11.2313], grad_fn=<MulBackward0>)\n",
      "tensor(7.7223, grad_fn=<MeanBackward0>)\n"
     ]
    }
   ],
   "source": [
    "y=x+2\n",
    "z=y*y*2\n",
    "\n",
    "print(z)\n",
    "\n",
    "z=z.mean()\n",
    "\n",
    "print(z)"
   ]
  },
  {
   "cell_type": "code",
   "execution_count": 37,
   "metadata": {},
   "outputs": [],
   "source": [
    "\n",
    "z.backward()\n",
    "# x.grad"
   ]
  },
  {
   "cell_type": "code",
   "execution_count": 39,
   "metadata": {},
   "outputs": [
    {
     "name": "stdout",
     "output_type": "stream",
     "text": [
      "tensor(7.7223, grad_fn=<MeanBackward0>) tensor([2.7292, 1.7778, 3.1597])\n"
     ]
    }
   ],
   "source": [
    "x.grad\n",
    "\n",
    "print(z,x.grad)"
   ]
  },
  {
   "cell_type": "code",
   "execution_count": null,
   "metadata": {},
   "outputs": [],
   "source": []
  }
 ],
 "metadata": {
  "kernelspec": {
   "display_name": "torch",
   "language": "python",
   "name": "python3"
  },
  "language_info": {
   "codemirror_mode": {
    "name": "ipython",
    "version": 3
   },
   "file_extension": ".py",
   "mimetype": "text/x-python",
   "name": "python",
   "nbconvert_exporter": "python",
   "pygments_lexer": "ipython3",
   "version": "3.12.2"
  }
 },
 "nbformat": 4,
 "nbformat_minor": 2
}
